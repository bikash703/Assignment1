{
 "cells": [
  {
   "cell_type": "markdown",
   "id": "f7d59375",
   "metadata": {},
   "source": [
    "## Wap to print natural numbers from 1 to n, n is entered by the user"
   ]
  },
  {
   "cell_type": "code",
   "execution_count": 1,
   "id": "f2e019f1",
   "metadata": {},
   "outputs": [
    {
     "name": "stdout",
     "output_type": "stream",
     "text": [
      "Enter a Number: 5\n",
      "1 2 3 4 5 "
     ]
    }
   ],
   "source": [
    "n=int(input('Enter a Number: '))\n",
    "for i in range(1,n+1):\n",
    "    print(i,end=' ')"
   ]
  },
  {
   "cell_type": "markdown",
   "id": "cc8effca",
   "metadata": {},
   "source": [
    "## Wap to print table of n, where n is entered by the user"
   ]
  },
  {
   "cell_type": "code",
   "execution_count": 5,
   "id": "fd04c9f2",
   "metadata": {},
   "outputs": [
    {
     "name": "stdout",
     "output_type": "stream",
     "text": [
      "Enter a Number5\n",
      "5 x 1 = 5\n",
      "5 x 2 = 10\n",
      "5 x 3 = 15\n",
      "5 x 4 = 20\n",
      "5 x 5 = 25\n",
      "5 x 6 = 30\n",
      "5 x 7 = 35\n",
      "5 x 8 = 40\n",
      "5 x 9 = 45\n",
      "5 x 10 = 50\n"
     ]
    }
   ],
   "source": [
    "# one method:-\n",
    "# n=int(input('Enter a Number: '))\n",
    "# for i in range(1,11):\n",
    "#     print(i*n,end=' ')\n",
    "    \n",
    "# Another method:-\n",
    "n=int(input('Enter a Number'))\n",
    "for i in range(1,11):\n",
    "    print(f'{n} x {i} = {n*i}')"
   ]
  },
  {
   "cell_type": "markdown",
   "id": "bfccc6fd",
   "metadata": {},
   "source": [
    "## Wap to print sum of n natural numbers, Where n is entered by the user. "
   ]
  },
  {
   "cell_type": "code",
   "execution_count": 10,
   "id": "fda09398",
   "metadata": {},
   "outputs": [
    {
     "name": "stdout",
     "output_type": "stream",
     "text": [
      "Enter a number: 3\n",
      "Sum of 3 natural number is 6\n"
     ]
    }
   ],
   "source": [
    "n=int(input('Enter a number: '))\n",
    "sum=0\n",
    "for i in range(n+1):\n",
    "    sum+=i\n",
    "print(f'Sum of {n} natural number is {sum}')"
   ]
  },
  {
   "cell_type": "markdown",
   "id": "7ac377e3",
   "metadata": {},
   "source": [
    "## Wap to print the factorial of the given number, where number is entered by the user."
   ]
  },
  {
   "cell_type": "code",
   "execution_count": 17,
   "id": "47c9b09e",
   "metadata": {},
   "outputs": [
    {
     "name": "stdout",
     "output_type": "stream",
     "text": [
      "Enter a number: 5\n",
      "The factorial of 5 is 120\n"
     ]
    }
   ],
   "source": [
    "n=int(input('Enter a number: '))\n",
    "fact=1\n",
    "for i in range(1,n+1):\n",
    "    fact=fact * i\n",
    "print(f'The factorial of {n} is {fact}')"
   ]
  },
  {
   "cell_type": "markdown",
   "id": "fa4a7c30",
   "metadata": {},
   "source": [
    "## Wap to input sales of the month and calculate the average sales of that month."
   ]
  },
  {
   "cell_type": "code",
   "execution_count": 25,
   "id": "7728c33b",
   "metadata": {},
   "outputs": [
    {
     "name": "stdout",
     "output_type": "stream",
     "text": [
      "Enter sales of the month and quit to q: 456\n",
      "Enter sales of the month and quit to q: 3456\n",
      "Enter sales of the month and quit to q: 6678\n",
      "Enter sales of the month and quit to q: 234\n",
      "Enter sales of the month and quit to q: 9980\n",
      "Enter sales of the month and quit to q: q\n",
      "Average is  4160.8\n"
     ]
    }
   ],
   "source": [
    "Total=0\n",
    "count=0\n",
    "while True:\n",
    "    n=input('Enter sales of the month and quit to q: ')\n",
    "    if n=='q' or n=='Q':\n",
    "        if Total==0:\n",
    "            print('Average is 0')\n",
    "        else:\n",
    "            print('Average is ',Total/count)\n",
    "        break\n",
    "    elif n!='q' or n!='Q':\n",
    "        a=int(n)\n",
    "        count+=1\n",
    "        Total+=a\n",
    "        avg=Total/count\n",
    "        \n",
    "    \n",
    " \n",
    "        "
   ]
  },
  {
   "cell_type": "code",
   "execution_count": null,
   "id": "266713f1",
   "metadata": {},
   "outputs": [],
   "source": []
  }
 ],
 "metadata": {
  "kernelspec": {
   "display_name": "Python 3 (ipykernel)",
   "language": "python",
   "name": "python3"
  },
  "language_info": {
   "codemirror_mode": {
    "name": "ipython",
    "version": 3
   },
   "file_extension": ".py",
   "mimetype": "text/x-python",
   "name": "python",
   "nbconvert_exporter": "python",
   "pygments_lexer": "ipython3",
   "version": "3.9.7"
  }
 },
 "nbformat": 4,
 "nbformat_minor": 5
}
